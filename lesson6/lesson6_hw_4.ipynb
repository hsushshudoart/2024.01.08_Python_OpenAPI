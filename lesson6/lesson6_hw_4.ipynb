{
 "cells": [
  {
   "cell_type": "code",
   "execution_count": 3,
   "metadata": {},
   "outputs": [
    {
     "name": "stdout",
     "output_type": "stream",
     "text": [
      "您的身高: 167.0 公分\n",
      "您的體重: 58.0 公斤\n",
      "您的BMI值: 20.8\n",
      "體重正常\n",
      "-------\n",
      "您的身高: 185.0 公分\n",
      "您的體重: 63.0 公斤\n",
      "您的BMI值: 18.4\n",
      "體重須注意\n",
      "體重過輕\n",
      "-------\n",
      "您的身高: 190.0 公分\n",
      "您的體重: 66.0 公斤\n",
      "您的BMI值: 18.3\n",
      "體重須注意\n",
      "體重過輕\n"
     ]
    }
   ],
   "source": [
    "#請將以下程式碼,增加:\n",
    "#您還要繼續計算嗎?[按q跳出程式]\n",
    "\n",
    "while True:\n",
    "    try:\n",
    "        height = float(input('請輸入身高(公分):'))\n",
    "        print('您的身高:', height, '公分')\n",
    "        weight = float(input('請輸入體重(公斤):'))\n",
    "        print('您的體重:', weight, '公斤')\n",
    "        BMI = weight / (height/100)**2\n",
    "\n",
    "        print('您的BMI值:', round(BMI, ndigits=1))\n",
    "        \n",
    "        if(BMI >= 18.5 and BMI < 24):\n",
    "            print(\"體重正常\")\n",
    "\n",
    "        else:\n",
    "            print(\"體重須注意\")\n",
    "            \n",
    "            if(BMI < 18.5):\n",
    "                print(\"體重過輕\")\n",
    "\n",
    "            elif(BMI >= 24 and BMI < 27):\n",
    "                print(\"體重過重\")\n",
    "\n",
    "            elif(BMI >= 27 and BMI < 30):\n",
    "                print(\"輕度肥胖\")\n",
    "\n",
    "            elif(BMI >= 30 and BMI < 35):\n",
    "                print(\"中度肥胖\")\n",
    "\n",
    "            else:\n",
    "                print(\"重度肥胖\")\n",
    "\n",
    "        quit_or_stay = input(\"您還要繼續計算嗎? [按q跳出程式][按Enter繼續]\")\n",
    "        if quit_or_stay == \"q\":\n",
    "            break\n",
    "        else:\n",
    "            print(\"-------\")\n",
    "\n",
    "    except:\n",
    "        print(\"輸入錯誤! 請輸入數字!!!\")\n"
   ]
  }
 ],
 "metadata": {
  "kernelspec": {
   "display_name": "Python 3",
   "language": "python",
   "name": "python3"
  },
  "language_info": {
   "codemirror_mode": {
    "name": "ipython",
    "version": 3
   },
   "file_extension": ".py",
   "mimetype": "text/x-python",
   "name": "python",
   "nbconvert_exporter": "python",
   "pygments_lexer": "ipython3",
   "version": "3.10.8"
  }
 },
 "nbformat": 4,
 "nbformat_minor": 2
}
