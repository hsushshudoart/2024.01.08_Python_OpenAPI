{
 "cells": [
  {
   "cell_type": "code",
   "execution_count": 10,
   "metadata": {},
   "outputs": [
    {
     "name": "stdout",
     "output_type": "stream",
     "text": [
      "您的身高: 167.0 公分\n",
      "您的體重: 57.0 公斤\n",
      "您的BMI值: 20.43816558499767\n"
     ]
    }
   ],
   "source": [
    "#BMI值計算公式: BMI = 體重(公斤) / 身高2(公尺2)\n",
    "\n",
    "#print('請輸入身高(公分):')\n",
    "#print('請輸入體重(公斤):')\n",
    "height = float(input('請輸入身高(公分):'))\n",
    "print('您的身高:', height, '公分')\n",
    "weight = float(input('請輸入體重(公斤):'))\n",
    "print('您的體重:', weight, '公斤')\n",
    "BMI = weight / (height/100)**2\n",
    "\n",
    "#print('您的身高:', height, '公分')\n",
    "#print('您的體重:', weight, '公斤')\n",
    "print('您的BMI值:', BMI)"
   ]
  }
 ],
 "metadata": {
  "kernelspec": {
   "display_name": "Python 3",
   "language": "python",
   "name": "python3"
  },
  "language_info": {
   "codemirror_mode": {
    "name": "ipython",
    "version": 3
   },
   "file_extension": ".py",
   "mimetype": "text/x-python",
   "name": "python",
   "nbconvert_exporter": "python",
   "pygments_lexer": "ipython3",
   "version": "3.10.8"
  }
 },
 "nbformat": 4,
 "nbformat_minor": 2
}
