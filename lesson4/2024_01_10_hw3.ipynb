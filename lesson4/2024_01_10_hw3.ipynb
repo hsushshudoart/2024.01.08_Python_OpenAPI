{
 "cells": [
  {
   "cell_type": "code",
   "execution_count": null,
   "metadata": {},
   "outputs": [],
   "source": [
    "#BMI值計算公式: BMI = 體重(公斤) / 身高2(公尺2)\n",
    "\n",
    "#print('請輸入身高(公分):')\n",
    "#print('請輸入體重(公斤):')\n",
    "height = float(input('請輸入身高(公分):'))\n",
    "print('您的身高:', height, '公分')\n",
    "weight = float(input('請輸入體重(公斤):'))\n",
    "print('您的體重:', weight, '公斤')\n",
    "BMI = weight / (height/100)**2\n",
    "\n",
    "print('您的BMI值:', BMI)"
   ]
  }
 ],
 "metadata": {
  "language_info": {
   "name": "python"
  }
 },
 "nbformat": 4,
 "nbformat_minor": 2
}
