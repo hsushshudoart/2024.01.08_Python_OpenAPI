{
 "cells": [
  {
   "cell_type": "code",
   "execution_count": 2,
   "metadata": {},
   "outputs": [
    {
     "name": "stdout",
     "output_type": "stream",
     "text": [
      "成年\n",
      "可以投票\n"
     ]
    }
   ],
   "source": [
    "#流程控制\n",
    "#布林型別\n",
    "\n",
    "age = int(input('請輸入age:'))\n",
    "if age>=18:\n",
    "    print('成年')\n",
    "    print('可以投票')\n",
    "    \n",
    "else:\n",
    "    print('未成年')\n",
    "    print('不能投票')"
   ]
  },
  {
   "cell_type": "code",
   "execution_count": 3,
   "metadata": {},
   "outputs": [
    {
     "name": "stdout",
     "output_type": "stream",
     "text": [
      "分數為: 89\n"
     ]
    }
   ],
   "source": [
    "#學生分數總分:300\n",
    "#有符合條件，可加分5%\n",
    "\n",
    "score = int(input('請輸入分數:'))\n",
    "is_add = input('學生是否符合加分條件? 符合請按Y,不符合請按N')\n",
    "if(is_add == \"y\"):\n",
    "    score *= 1.05\n",
    "\n",
    "print('分數為:', round(score))"
   ]
  },
  {
   "cell_type": "code",
   "execution_count": 4,
   "metadata": {},
   "outputs": [
    {
     "name": "stdout",
     "output_type": "stream",
     "text": [
      "分數為: 300\n"
     ]
    }
   ],
   "source": [
    "#學生分數總分:300\n",
    "#有符合條件，可加分5%\n",
    "#如果加分超過300,就以300分為準\n",
    "\n",
    "score = int(input('請輸入分數:'))\n",
    "is_add = input('學生是否符合加分條件? 符合請按y,不符合請按n')\n",
    "#巢狀判斷\n",
    "if(is_add == \"y\"):\n",
    "    score *= 1.05\n",
    "    if score > 300:\n",
    "        score = 300\n",
    "\n",
    "print('分數為:', round(score))"
   ]
  }
 ],
 "metadata": {
  "kernelspec": {
   "display_name": "Python 3",
   "language": "python",
   "name": "python3"
  },
  "language_info": {
   "codemirror_mode": {
    "name": "ipython",
    "version": 3
   },
   "file_extension": ".py",
   "mimetype": "text/x-python",
   "name": "python",
   "nbconvert_exporter": "python",
   "pygments_lexer": "ipython3",
   "version": "3.10.8"
  }
 },
 "nbformat": 4,
 "nbformat_minor": 2
}
