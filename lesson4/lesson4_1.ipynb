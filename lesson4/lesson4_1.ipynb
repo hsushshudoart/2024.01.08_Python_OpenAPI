{
 "cells": [
  {
   "cell_type": "code",
   "execution_count": 2,
   "metadata": {},
   "outputs": [
    {
     "name": "stdout",
     "output_type": "stream",
     "text": [
      "成年\n",
      "可以投票\n"
     ]
    }
   ],
   "source": [
    "#流程控制\n",
    "#布林型別\n",
    "\n",
    "age = int(input('請輸入age:'))\n",
    "if age>=18:\n",
    "    print('成年')\n",
    "    print('可以投票')\n",
    "else:\n",
    "    print('未成年')\n",
    "    print('不能投票')"
   ]
  }
 ],
 "metadata": {
  "kernelspec": {
   "display_name": "Python 3",
   "language": "python",
   "name": "python3"
  },
  "language_info": {
   "codemirror_mode": {
    "name": "ipython",
    "version": 3
   },
   "file_extension": ".py",
   "mimetype": "text/x-python",
   "name": "python",
   "nbconvert_exporter": "python",
   "pygments_lexer": "ipython3",
   "version": "3.10.8"
  }
 },
 "nbformat": 4,
 "nbformat_minor": 2
}
