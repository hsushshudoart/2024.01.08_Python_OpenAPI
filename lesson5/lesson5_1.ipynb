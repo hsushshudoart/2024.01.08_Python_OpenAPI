{
 "cells": [
  {
   "cell_type": "code",
   "execution_count": 3,
   "metadata": {},
   "outputs": [
    {
     "name": "stdout",
     "output_type": "stream",
     "text": [
      "1~100的加總是: 5050\n"
     ]
    }
   ],
   "source": [
    "#明確知道執行次數、條件的 while迴圈\n",
    "\n",
    "#1~100的加總\n",
    "\n",
    "value = 1\n",
    "total = 0\n",
    "while(value <= 100):\n",
    "    total += value\n",
    "    value += 1\n",
    "\n",
    "print(\"1~100的加總是:\", total)"
   ]
  },
  {
   "cell_type": "code",
   "execution_count": 6,
   "metadata": {},
   "outputs": [
    {
     "name": "stdout",
     "output_type": "stream",
     "text": [
      "1~100的加總是: 5050\n"
     ]
    }
   ],
   "source": [
    "#★★★ 靈活的while迴圈 寫法\n",
    "#明確知道執行次數、條件的 while迴圈\n",
    "#while的bool值永遠為True, 裡面用if來設定條件, 讓他判斷並break跳出while程式區塊\n",
    "\n",
    "#1~100的加總\n",
    "\n",
    "value = 1\n",
    "total = 0\n",
    "while True:\n",
    "    total += value\n",
    "    value += 1\n",
    "    if value > 100:\n",
    "        break\n",
    "\n",
    "print(\"1~100的加總是:\", total)"
   ]
  },
  {
   "cell_type": "code",
   "execution_count": 7,
   "metadata": {},
   "outputs": [
    {
     "name": "stdout",
     "output_type": "stream",
     "text": [
      "Taiwan\n",
      "程式結束\n"
     ]
    }
   ],
   "source": [
    "#string實體名稱.實體方法()\n",
    "#while 迴圈 + break\n",
    "#string實體名稱.capitalize(), 傳出一個新的字串, 首字變大寫\n",
    "#while True ->> 讓程式一開始就進入while迴圈\n",
    "\n",
    "while True:\n",
    "    stuff = input(\"請輸入英文小寫 [要離開請按q]:\")\n",
    "    if (stuff == \"q\"):\n",
    "        break\n",
    "    print(stuff.capitalize())\n",
    "print(\"程式結束\")"
   ]
  },
  {
   "cell_type": "code",
   "execution_count": 8,
   "metadata": {},
   "outputs": [
    {
     "name": "stdout",
     "output_type": "stream",
     "text": [
      "數值加總為: 68\n",
      "程式結束\n"
     ]
    }
   ],
   "source": [
    "#請設計一個程式，讓使用者輸入數值，只有加總正偶數值，不加總正奇數值，如果輸入負數，結束程式。\n",
    "#while迴圈, continue重新做一次迴圈\n",
    "\n",
    "total = 0\n",
    "while True:\n",
    "    input_value = int(input(\"請輸入數值:\"))\n",
    "    if input_value < 0:\n",
    "        break\n",
    "    if input_value % 2 == 1:\n",
    "        continue\n",
    "    else:\n",
    "        total += input_value\n",
    "print(\"數值加總為:\", total)\n",
    "print(\"程式結束\")\n"
   ]
  }
 ],
 "metadata": {
  "kernelspec": {
   "display_name": "Python 3",
   "language": "python",
   "name": "python3"
  },
  "language_info": {
   "codemirror_mode": {
    "name": "ipython",
    "version": 3
   },
   "file_extension": ".py",
   "mimetype": "text/x-python",
   "name": "python",
   "nbconvert_exporter": "python",
   "pygments_lexer": "ipython3",
   "version": "3.10.8"
  }
 },
 "nbformat": 4,
 "nbformat_minor": 2
}
