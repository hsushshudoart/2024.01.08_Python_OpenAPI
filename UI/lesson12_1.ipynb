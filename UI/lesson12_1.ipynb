{
 "cells": [
  {
   "cell_type": "code",
   "execution_count": 7,
   "metadata": {},
   "outputs": [
    {
     "name": "stdout",
     "output_type": "stream",
     "text": [
      "下載成功\n",
      "[{'date': '2024-1-24 15:31:59', 'address': 'Chicken', 'temperature': 22.8311, 'light': 37161.0}, {'date': '2024-1-24 15:32:8', 'address': 'Chicken', 'temperature': 22.36296, 'light': 17732.0}, {'date': '2024-1-24 15:40:46', 'address': 'Chicken', 'temperature': 22.8311, 'light': 65535.0}, {'date': '2024-1-24 15:56:52', 'address': 'Chicken', 'temperature': 22.36296, 'light': 65535.0}, {'date': '2024-1-25 18:51:47', 'address': 'Chicken', 'temperature': 16.27709, 'light': 26886.0}, {'date': '2024-1-25 18:53:53', 'address': 'Chicken', 'temperature': 17.68152, 'light': 29543.0}, {'date': '2024-1-26 8:50:53', 'address': 'Chicken', 'temperature': 15.80894, 'light': 39865.0}]\n"
     ]
    }
   ],
   "source": [
    "import requests\n",
    "\n",
    "#render公開網址 ->> 後面再輸入 /docs ->> 第4個節點 try it out執行 ->> 複製 request url\n",
    "url = 'https://openapi-h8a3.onrender.com/pico_w/?count=7'\n",
    "\n",
    "r = requests.get(url=url)\n",
    "\n",
    "if r.status_code == 200:\n",
    "    print('下載成功')\n",
    "    data = r.json()\n",
    "\n",
    "print(data)"
   ]
  },
  {
   "cell_type": "code",
   "execution_count": 9,
   "metadata": {},
   "outputs": [
    {
     "data": {
      "text/html": [
       "<div>\n",
       "<style scoped>\n",
       "    .dataframe tbody tr th:only-of-type {\n",
       "        vertical-align: middle;\n",
       "    }\n",
       "\n",
       "    .dataframe tbody tr th {\n",
       "        vertical-align: top;\n",
       "    }\n",
       "\n",
       "    .dataframe thead th {\n",
       "        text-align: right;\n",
       "    }\n",
       "</style>\n",
       "<table border=\"1\" class=\"dataframe\">\n",
       "  <thead>\n",
       "    <tr style=\"text-align: right;\">\n",
       "      <th></th>\n",
       "      <th>date</th>\n",
       "      <th>address</th>\n",
       "      <th>temperature</th>\n",
       "      <th>light</th>\n",
       "    </tr>\n",
       "  </thead>\n",
       "  <tbody>\n",
       "    <tr>\n",
       "      <th>0</th>\n",
       "      <td>2024-1-24 15:31:59</td>\n",
       "      <td>Chicken</td>\n",
       "      <td>22.83110</td>\n",
       "      <td>37161.0</td>\n",
       "    </tr>\n",
       "    <tr>\n",
       "      <th>1</th>\n",
       "      <td>2024-1-24 15:32:8</td>\n",
       "      <td>Chicken</td>\n",
       "      <td>22.36296</td>\n",
       "      <td>17732.0</td>\n",
       "    </tr>\n",
       "    <tr>\n",
       "      <th>2</th>\n",
       "      <td>2024-1-24 15:40:46</td>\n",
       "      <td>Chicken</td>\n",
       "      <td>22.83110</td>\n",
       "      <td>65535.0</td>\n",
       "    </tr>\n",
       "    <tr>\n",
       "      <th>3</th>\n",
       "      <td>2024-1-24 15:56:52</td>\n",
       "      <td>Chicken</td>\n",
       "      <td>22.36296</td>\n",
       "      <td>65535.0</td>\n",
       "    </tr>\n",
       "    <tr>\n",
       "      <th>4</th>\n",
       "      <td>2024-1-25 18:51:47</td>\n",
       "      <td>Chicken</td>\n",
       "      <td>16.27709</td>\n",
       "      <td>26886.0</td>\n",
       "    </tr>\n",
       "    <tr>\n",
       "      <th>5</th>\n",
       "      <td>2024-1-25 18:53:53</td>\n",
       "      <td>Chicken</td>\n",
       "      <td>17.68152</td>\n",
       "      <td>29543.0</td>\n",
       "    </tr>\n",
       "    <tr>\n",
       "      <th>6</th>\n",
       "      <td>2024-1-26 8:50:53</td>\n",
       "      <td>Chicken</td>\n",
       "      <td>15.80894</td>\n",
       "      <td>39865.0</td>\n",
       "    </tr>\n",
       "  </tbody>\n",
       "</table>\n",
       "</div>"
      ],
      "text/plain": [
       "                 date  address  temperature    light\n",
       "0  2024-1-24 15:31:59  Chicken     22.83110  37161.0\n",
       "1   2024-1-24 15:32:8  Chicken     22.36296  17732.0\n",
       "2  2024-1-24 15:40:46  Chicken     22.83110  65535.0\n",
       "3  2024-1-24 15:56:52  Chicken     22.36296  65535.0\n",
       "4  2024-1-25 18:51:47  Chicken     16.27709  26886.0\n",
       "5  2024-1-25 18:53:53  Chicken     17.68152  29543.0\n",
       "6   2024-1-26 8:50:53  Chicken     15.80894  39865.0"
      ]
     },
     "execution_count": 9,
     "metadata": {},
     "output_type": "execute_result"
    }
   ],
   "source": [
    "import pandas as pd\n",
    "\n",
    "dataFrame = pd.DataFrame(data)\n",
    "dataFrame"
   ]
  }
 ],
 "metadata": {
  "kernelspec": {
   "display_name": ".venv",
   "language": "python",
   "name": "python3"
  },
  "language_info": {
   "codemirror_mode": {
    "name": "ipython",
    "version": 3
   },
   "file_extension": ".py",
   "mimetype": "text/x-python",
   "name": "python",
   "nbconvert_exporter": "python",
   "pygments_lexer": "ipython3",
   "version": "3.10.8"
  }
 },
 "nbformat": 4,
 "nbformat_minor": 2
}
