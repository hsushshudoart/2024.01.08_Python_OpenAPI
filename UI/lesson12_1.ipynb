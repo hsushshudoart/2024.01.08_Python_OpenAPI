{
 "cells": [
  {
   "cell_type": "code",
   "execution_count": 3,
   "metadata": {},
   "outputs": [
    {
     "name": "stdout",
     "output_type": "stream",
     "text": [
      "下載成功\n",
      "[{'date': '2024-1-24 15:40:46', 'address': 'Chicken', 'temperature': 22.8311, 'light': 65535.0}, {'date': '2024-1-24 15:56:52', 'address': 'Chicken', 'temperature': 22.36296, 'light': 65535.0}, {'date': '2024-1-25 18:51:47', 'address': 'Chicken', 'temperature': 16.27709, 'light': 26886.0}, {'date': '2024-1-25 18:53:53', 'address': 'Chicken', 'temperature': 17.68152, 'light': 29543.0}, {'date': '2024-1-26 8:50:53', 'address': 'Chicken', 'temperature': 15.80894, 'light': 39865.0}]\n"
     ]
    }
   ],
   "source": [
    "import requests\n",
    "\n",
    "#render公開網址 ->> 後面再輸入 /docs ->> 第4個節點 try it out執行 ->> 複製 request url\n",
    "url = 'https://openapi-h8a3.onrender.com/pico_w/?count=5'\n",
    "\n",
    "r = requests.get(url=url)\n",
    "\n",
    "if r.status_code == 200:\n",
    "    print('下載成功')\n",
    "    data = r.json()\n",
    "\n",
    "print(data)"
   ]
  }
 ],
 "metadata": {
  "kernelspec": {
   "display_name": ".venv",
   "language": "python",
   "name": "python3"
  },
  "language_info": {
   "codemirror_mode": {
    "name": "ipython",
    "version": 3
   },
   "file_extension": ".py",
   "mimetype": "text/x-python",
   "name": "python",
   "nbconvert_exporter": "python",
   "pygments_lexer": "ipython3",
   "version": "3.10.8"
  }
 },
 "nbformat": 4,
 "nbformat_minor": 2
}
