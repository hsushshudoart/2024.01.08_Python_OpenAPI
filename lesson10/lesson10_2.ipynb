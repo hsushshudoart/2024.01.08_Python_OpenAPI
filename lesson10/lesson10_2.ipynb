{
 "cells": [
  {
   "cell_type": "code",
   "execution_count": 1,
   "metadata": {},
   "outputs": [],
   "source": [
    "import redis\n",
    "redis_conn = redis.Redis.from_url('rediss://xxxxxx@singapore-redis.render.com:6379')"
   ]
  },
  {
   "cell_type": "code",
   "execution_count": 2,
   "metadata": {},
   "outputs": [
    {
     "data": {
      "text/plain": [
       "4"
      ]
     },
     "execution_count": 2,
     "metadata": {},
     "output_type": "execute_result"
    }
   ],
   "source": [
    "#儲存list\n",
    "name = \"hsushshudoart\"\n",
    "chinese = 78\n",
    "english = 92\n",
    "math = 65\n",
    "\n",
    "redis_conn.rpush('stu:01',name)\n",
    "redis_conn.rpush('stu:01',chinese)\n",
    "redis_conn.rpush('stu:01',english)\n",
    "redis_conn.rpush('stu:01',math)"
   ]
  },
  {
   "cell_type": "code",
   "execution_count": 3,
   "metadata": {},
   "outputs": [
    {
     "data": {
      "text/plain": [
       "4"
      ]
     },
     "execution_count": 3,
     "metadata": {},
     "output_type": "execute_result"
    }
   ],
   "source": [
    "name2 = \"張咚咚\"\n",
    "chinese2 = 90\n",
    "english2 = 96\n",
    "math2 = 91\n",
    "\n",
    "redis_conn.rpush('stu:02',name2,chinese2,english2,math2)"
   ]
  },
  {
   "cell_type": "code",
   "execution_count": 4,
   "metadata": {},
   "outputs": [
    {
     "name": "stdout",
     "output_type": "stream",
     "text": [
      "張咚咚\n",
      "90\n",
      "96\n",
      "91\n"
     ]
    }
   ],
   "source": [
    "#取出list的值\n",
    "#lrange ->> 實體方法 ->> 從左到右的範圍\n",
    "#index索引,第0個,第1個,第2個,第3個\n",
    "list1 = redis_conn.lrange('stu:02',0,3)\n",
    "for item in list1:\n",
    "    print(item.decode())"
   ]
  },
  {
   "cell_type": "code",
   "execution_count": 8,
   "metadata": {},
   "outputs": [
    {
     "data": {
      "text/plain": [
       "[b'\\xe5\\xbc\\xb5\\xe5\\x92\\x9a\\xe5\\x92\\x9a', b'90', b'96', b'91']"
      ]
     },
     "execution_count": 8,
     "metadata": {},
     "output_type": "execute_result"
    }
   ],
   "source": [
    "redis_conn.lrange('stu:02',-4,-1)"
   ]
  },
  {
   "cell_type": "code",
   "execution_count": 9,
   "metadata": {},
   "outputs": [
    {
     "data": {
      "text/plain": [
       "1"
      ]
     },
     "execution_count": 9,
     "metadata": {},
     "output_type": "execute_result"
    }
   ],
   "source": [
    "redis_conn.delete('stu:01')\n",
    "redis_conn.delete('stu:02')"
   ]
  }
 ],
 "metadata": {
  "kernelspec": {
   "display_name": "Python 3",
   "language": "python",
   "name": "python3"
  },
  "language_info": {
   "codemirror_mode": {
    "name": "ipython",
    "version": 3
   },
   "file_extension": ".py",
   "mimetype": "text/x-python",
   "name": "python",
   "nbconvert_exporter": "python",
   "pygments_lexer": "ipython3",
   "version": "3.10.8"
  }
 },
 "nbformat": 4,
 "nbformat_minor": 2
}
