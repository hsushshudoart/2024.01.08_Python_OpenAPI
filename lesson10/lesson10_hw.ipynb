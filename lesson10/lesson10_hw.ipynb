{
 "cells": [
  {
   "cell_type": "code",
   "execution_count": 1,
   "metadata": {},
   "outputs": [],
   "source": [
    "import redis\n",
    "redis_conn = redis.Redis.from_url('rediss://xxxxxx@singapore-redis.render.com:6379')"
   ]
  },
  {
   "cell_type": "code",
   "execution_count": 2,
   "metadata": {},
   "outputs": [
    {
     "data": {
      "text/plain": [
       "1"
      ]
     },
     "execution_count": 2,
     "metadata": {},
     "output_type": "execute_result"
    }
   ],
   "source": [
    "time = 'time01'\n",
    "timeticks = '2024-0-01-01-01-00'\n",
    "light = 130             # LM流明\n",
    "distance = 3            # m 公尺\n",
    "\n",
    "redis_conn.rpush('pico:plantA',time)                                #list\n",
    "redis_conn.hset('pico:timeticks',mapping={time:timeticks})          #hash\n",
    "redis_conn.hset('pico:light',mapping={time:light})                  #hash\n",
    "redis_conn.hset('pico:distance',mapping={time:distance})            #hash"
   ]
  },
  {
   "cell_type": "code",
   "execution_count": 3,
   "metadata": {},
   "outputs": [
    {
     "data": {
      "text/plain": [
       "1"
      ]
     },
     "execution_count": 3,
     "metadata": {},
     "output_type": "execute_result"
    }
   ],
   "source": [
    "time = 'time02'\n",
    "timeticks = '2024-0-01-01-01-10'\n",
    "light = 210             # LM流明\n",
    "distance = 5            # m 公尺\n",
    "\n",
    "redis_conn.rpush('pico:plantA',time)                                #list\n",
    "redis_conn.hset('pico:timeticks',mapping={time:timeticks})          #hash\n",
    "redis_conn.hset('pico:light',mapping={time:light})                  #hash\n",
    "redis_conn.hset('pico:distance',mapping={time:distance})            #hash"
   ]
  },
  {
   "cell_type": "code",
   "execution_count": 4,
   "metadata": {},
   "outputs": [
    {
     "data": {
      "text/plain": [
       "1"
      ]
     },
     "execution_count": 4,
     "metadata": {},
     "output_type": "execute_result"
    }
   ],
   "source": [
    "time = 'time03'\n",
    "timeticks = '2024-0-01-01-01-20'\n",
    "light = 550             # LM流明\n",
    "distance = 20            # m 公尺\n",
    "\n",
    "redis_conn.rpush('pico:plantA',time)                                #list\n",
    "redis_conn.hset('pico:timeticks',mapping={time:timeticks})          #hash\n",
    "redis_conn.hset('pico:light',mapping={time:light})                  #hash\n",
    "redis_conn.hset('pico:distance',mapping={time:distance})            #hash"
   ]
  },
  {
   "cell_type": "code",
   "execution_count": 5,
   "metadata": {},
   "outputs": [
    {
     "data": {
      "text/plain": [
       "1"
      ]
     },
     "execution_count": 5,
     "metadata": {},
     "output_type": "execute_result"
    }
   ],
   "source": [
    "time = 'time04'\n",
    "timeticks = '2024-0-01-01-01-30'\n",
    "light = 350             # LM流明\n",
    "distance = 15            # m 公尺\n",
    "\n",
    "redis_conn.rpush('pico:plantA',time)                                #list\n",
    "redis_conn.hset('pico:timeticks',mapping={time:timeticks})          #hash\n",
    "redis_conn.hset('pico:light',mapping={time:light})                  #hash\n",
    "redis_conn.hset('pico:distance',mapping={time:distance})            #hash"
   ]
  },
  {
   "cell_type": "code",
   "execution_count": 6,
   "metadata": {},
   "outputs": [
    {
     "data": {
      "text/plain": [
       "1"
      ]
     },
     "execution_count": 6,
     "metadata": {},
     "output_type": "execute_result"
    }
   ],
   "source": [
    "time = 'time05'\n",
    "timeticks = '2024-0-01-01-01-40'\n",
    "light = 760             # LM流明\n",
    "distance = 30            # m 公尺\n",
    "\n",
    "redis_conn.rpush('pico:plantA',time)                                #list\n",
    "redis_conn.hset('pico:timeticks',mapping={time:timeticks})          #hash\n",
    "redis_conn.hset('pico:light',mapping={time:light})                  #hash\n",
    "redis_conn.hset('pico:distance',mapping={time:distance})            #hash"
   ]
  },
  {
   "cell_type": "code",
   "execution_count": 7,
   "metadata": {},
   "outputs": [
    {
     "data": {
      "text/plain": [
       "['time01', 'time02', 'time03', 'time04', 'time05']"
      ]
     },
     "execution_count": 7,
     "metadata": {},
     "output_type": "execute_result"
    }
   ],
   "source": [
    "time_list = [item.decode() for item in redis_conn.lrange('pico:plantA', 0,4)]\n",
    "time_list"
   ]
  },
  {
   "cell_type": "code",
   "execution_count": 8,
   "metadata": {},
   "outputs": [
    {
     "name": "stdout",
     "output_type": "stream",
     "text": [
      "2024-0-01-01-01-00 \n",
      " 亮度: 130 流明 \n",
      " 距離: 3 公尺\n",
      "-------\n",
      "2024-0-01-01-01-10 \n",
      " 亮度: 210 流明 \n",
      " 距離: 5 公尺\n",
      "-------\n",
      "2024-0-01-01-01-20 \n",
      " 亮度: 550 流明 \n",
      " 距離: 20 公尺\n",
      "-------\n",
      "2024-0-01-01-01-30 \n",
      " 亮度: 350 流明 \n",
      " 距離: 15 公尺\n",
      "-------\n",
      "2024-0-01-01-01-40 \n",
      " 亮度: 760 流明 \n",
      " 距離: 30 公尺\n",
      "-------\n"
     ]
    }
   ],
   "source": [
    "for time in time_list:\n",
    "    timeticks = redis_conn.hget('pico:timeticks', time).decode()\n",
    "    light = redis_conn.hget('pico:light', time).decode()\n",
    "    distance = redis_conn.hget('pico:distance', time).decode()\n",
    "    print(timeticks,'\\n', '亮度:', light, '流明', '\\n', '距離:',distance, '公尺')\n",
    "    print('-------')"
   ]
  }
 ],
 "metadata": {
  "kernelspec": {
   "display_name": "Python 3",
   "language": "python",
   "name": "python3"
  },
  "language_info": {
   "codemirror_mode": {
    "name": "ipython",
    "version": 3
   },
   "file_extension": ".py",
   "mimetype": "text/x-python",
   "name": "python",
   "nbconvert_exporter": "python",
   "pygments_lexer": "ipython3",
   "version": "3.10.8"
  }
 },
 "nbformat": 4,
 "nbformat_minor": 2
}
