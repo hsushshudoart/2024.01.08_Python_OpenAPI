{
 "cells": [
  {
   "cell_type": "code",
   "execution_count": 2,
   "metadata": {},
   "outputs": [
    {
     "name": "stdout",
     "output_type": "stream",
     "text": [
      "時間:2024-0-01-01-01-00\n",
      "亮度:100\n",
      "距離:900\n",
      "---------------\n",
      "時間:2024-0-01-01-01-10\n",
      "亮度:200\n",
      "距離:800\n",
      "---------------\n",
      "時間:2024-0-01-01-01-20\n",
      "亮度:300\n",
      "距離:700\n",
      "---------------\n",
      "時間:2024-0-01-01-01-30\n",
      "亮度:400\n",
      "距離:600\n",
      "---------------\n",
      "時間:2024-0-01-01-01-40\n",
      "亮度:500\n",
      "距離:500\n",
      "---------------\n"
     ]
    }
   ],
   "source": [
    "import redis\n",
    "\n",
    "def insert_data(time:str, light:int, distance:int):\n",
    "    redis_conn.rpush('pico:timeticks', time)\n",
    "    redis_conn.hset('pico:light', mapping={time:light})\n",
    "    redis_conn.hset('pico:distance', mapping={time:distance})\n",
    "\n",
    "redis_conn = redis.Redis.from_url('rediss://xxxxxx@singapore-redis.render.com:6379')\n",
    "\n",
    "insert_data('2024-0-01-01-01-00', 100, 900)\n",
    "insert_data('2024-0-01-01-01-10', 200, 800)\n",
    "insert_data('2024-0-01-01-01-20', 300, 700)\n",
    "insert_data('2024-0-01-01-01-30', 400, 600)\n",
    "insert_data('2024-0-01-01-01-40', 500, 500)\n",
    "\n",
    "id_list = [item.decode() for item in redis_conn.lrange('pico:timeticks',0,-1)]\n",
    "\n",
    "for s in id_list:\n",
    "    light = redis_conn.hget('pico:light', s).decode()\n",
    "    distance = redis_conn.hget('pico:distance', s).decode()\n",
    "    print(f'時間:{s}\\n亮度:{light}\\n距離:{distance}')\n",
    "    print('---------------')\n",
    "\n",
    "redis_conn.close()"
   ]
  }
 ],
 "metadata": {
  "kernelspec": {
   "display_name": "Python 3",
   "language": "python",
   "name": "python3"
  },
  "language_info": {
   "codemirror_mode": {
    "name": "ipython",
    "version": 3
   },
   "file_extension": ".py",
   "mimetype": "text/x-python",
   "name": "python",
   "nbconvert_exporter": "python",
   "pygments_lexer": "ipython3",
   "version": "3.10.8"
  }
 },
 "nbformat": 4,
 "nbformat_minor": 2
}
