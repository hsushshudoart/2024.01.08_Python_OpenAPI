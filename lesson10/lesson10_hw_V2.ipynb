{
 "cells": [
  {
   "cell_type": "code",
   "execution_count": 13,
   "metadata": {},
   "outputs": [],
   "source": [
    "import redis\n",
    "redis_conn = redis.Redis.from_url('rediss://xxxxxx@singapore-redis.render.com:6379')"
   ]
  },
  {
   "cell_type": "code",
   "execution_count": 14,
   "metadata": {},
   "outputs": [],
   "source": [
    "#沒有寫完的!!!\n",
    "\n",
    "time= [\n",
    "    '2024-0-01-01-01-00',\n",
    "    '2024-0-01-01-01-10',\n",
    "    '2024-0-01-01-01-20',\n",
    "    '2024-0-01-01-01-30',\n",
    "    '2024-0-01-01-01-40'\n",
    "]\n",
    "\n",
    "light = {130, 210, 550, 350, 720}\n",
    "distance = [3, 5, 15, 20,30]\n",
    "\n",
    "for t in time:\n",
    "    redis_conn.rpush('pico:timeticks',t)                                #list\n",
    "    redis_conn.hset('pico:light',mapping={:})          #hash\n",
    "    \"\"\"redis_conn.hset('pico:light',mapping={time:light})                  #hash\n",
    "    redis_conn.hset('pico:distance',mapping={time:distance})            #hash\"\"\""
   ]
  }
 ],
 "metadata": {
  "kernelspec": {
   "display_name": "Python 3",
   "language": "python",
   "name": "python3"
  },
  "language_info": {
   "codemirror_mode": {
    "name": "ipython",
    "version": 3
   },
   "file_extension": ".py",
   "mimetype": "text/x-python",
   "name": "python",
   "nbconvert_exporter": "python",
   "pygments_lexer": "ipython3",
   "version": "3.10.8"
  }
 },
 "nbformat": 4,
 "nbformat_minor": 2
}
