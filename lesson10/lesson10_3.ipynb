{
 "cells": [
  {
   "cell_type": "code",
   "execution_count": 2,
   "metadata": {},
   "outputs": [],
   "source": [
    "import redis\n",
    "redis_conn = redis.Redis.from_url('rediss://xxxxxx@singapore-redis.render.com:6379')"
   ]
  },
  {
   "cell_type": "code",
   "execution_count": 3,
   "metadata": {},
   "outputs": [],
   "source": [
    "name = \"hsushshudoart\"\n",
    "chinese = 78\n",
    "english = 92\n",
    "math = 65"
   ]
  },
  {
   "cell_type": "code",
   "execution_count": 4,
   "metadata": {},
   "outputs": [
    {
     "data": {
      "text/plain": [
       "0"
      ]
     },
     "execution_count": 4,
     "metadata": {},
     "output_type": "execute_result"
    }
   ],
   "source": [
    "#dictionary\n",
    "#有key,不能像是list那樣 抓前幾筆、後幾筆資料\n",
    "\n",
    "redis_conn.hset('stu:01',\n",
    "                mapping = {\n",
    "                    '姓名':name,\n",
    "                    '中文':chinese,\n",
    "                    '英文':english,\n",
    "                    '數學':math\n",
    "                })"
   ]
  },
  {
   "cell_type": "code",
   "execution_count": 5,
   "metadata": {},
   "outputs": [
    {
     "data": {
      "text/plain": [
       "'hsushshudoart'"
      ]
     },
     "execution_count": 5,
     "metadata": {},
     "output_type": "execute_result"
    }
   ],
   "source": [
    "#dictionary, hget\n",
    "redis_conn.hget('stu:01','姓名').decode()"
   ]
  },
  {
   "cell_type": "code",
   "execution_count": 6,
   "metadata": {},
   "outputs": [
    {
     "name": "stdout",
     "output_type": "stream",
     "text": [
      "姓名 hsushshudoart\n",
      "中文 78\n",
      "英文 92\n",
      "數學 65\n"
     ]
    }
   ],
   "source": [
    "#dictionary, hgetall\n",
    "stu1 = redis_conn.hgetall('stu:01')\n",
    "for (key,value) in stu1.items():\n",
    "    print(key.decode(), value.decode())"
   ]
  },
  {
   "cell_type": "code",
   "execution_count": 7,
   "metadata": {},
   "outputs": [
    {
     "data": {
      "text/plain": [
       "{'姓名': 'hsushshudoart', '中文': '78', '英文': '92', '數學': '65'}"
      ]
     },
     "execution_count": 7,
     "metadata": {},
     "output_type": "execute_result"
    }
   ],
   "source": [
    "#dictionary 進階\n",
    "{key.decode():value.decode() for (key,value) in stu1.items()}"
   ]
  },
  {
   "cell_type": "code",
   "execution_count": 8,
   "metadata": {},
   "outputs": [
    {
     "data": {
      "text/plain": [
       "1"
      ]
     },
     "execution_count": 8,
     "metadata": {},
     "output_type": "execute_result"
    }
   ],
   "source": [
    "redis_conn.delete('stu:01')"
   ]
  }
 ],
 "metadata": {
  "kernelspec": {
   "display_name": "Python 3",
   "language": "python",
   "name": "python3"
  },
  "language_info": {
   "codemirror_mode": {
    "name": "ipython",
    "version": 3
   },
   "file_extension": ".py",
   "mimetype": "text/x-python",
   "name": "python",
   "nbconvert_exporter": "python",
   "pygments_lexer": "ipython3",
   "version": "3.10.8"
  }
 },
 "nbformat": 4,
 "nbformat_minor": 2
}
